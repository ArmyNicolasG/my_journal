{
 "cells": [
  {
   "cell_type": "code",
   "execution_count": null,
   "id": "403ddb71-7f14-4522-8887-66cfec3da4ff",
   "metadata": {},
   "outputs": [],
   "source": []
  }
 ],
 "metadata": {
  "kernelspec": {
   "display_name": "",
   "name": ""
  },
  "language_info": {
   "name": ""
  }
 },
 "nbformat": 4,
 "nbformat_minor": 5
}
