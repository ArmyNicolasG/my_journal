{
 "cells": [
  {
   "cell_type": "code",
   "execution_count": 1,
   "id": "09a219fe-080b-41b8-9fba-712aa5c6da64",
   "metadata": {},
   "outputs": [],
   "source": [
    "!pip install matplotlib --quiet"
   ]
  },
  {
   "cell_type": "markdown",
   "id": "11d00f6c-6d7c-4220-9a13-ebb0ebecd0af",
   "metadata": {},
   "source": [
    "# CORE LEARNING ALGORITHMS USING TENSORFLOW\n",
    "We are gonna use some core algorithms using TensorFlow, including:\n",
    "- Linear regression\n",
    "- Classification\n",
    "- Clustering\n",
    "- Hidden Markov Models\n",
    "\n",
    "## Linear regression\n",
    "Is one of the most basic forms of machine learning and **is used to predict numeric values.** The next example will use the linear model (like _y = mx + b_) to predict the survival rate of passengers from the titanic dataset. Example taken from: https://www.tensorflow.org/tutorials/estimator/linear"
   ]
  },
  {
   "cell_type": "code",
   "execution_count": 2,
   "id": "4a9c058d-deea-49ff-84f5-fb2133756f63",
   "metadata": {},
   "outputs": [],
   "source": [
    "import tensorflow as tf\n",
    "import matplotlib.pyplot as plt\n",
    "\n"
   ]
  }
 ],
 "metadata": {
  "kernelspec": {
   "display_name": "Python 3 (ipykernel)",
   "language": "python",
   "name": "python3"
  },
  "language_info": {
   "codemirror_mode": {
    "name": "ipython",
    "version": 3
   },
   "file_extension": ".py",
   "mimetype": "text/x-python",
   "name": "python",
   "nbconvert_exporter": "python",
   "pygments_lexer": "ipython3",
   "version": "3.12.2"
  }
 },
 "nbformat": 4,
 "nbformat_minor": 5
}
