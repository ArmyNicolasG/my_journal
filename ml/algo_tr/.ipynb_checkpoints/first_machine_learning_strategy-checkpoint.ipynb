{
 "cells": [
  {
   "cell_type": "markdown",
   "id": "f009e8da-b621-4d6b-9602-be2c603cb020",
   "metadata": {
    "scrolled": true
   },
   "source": [
    "# Packages:\n",
    "matplotlib, pandas, numpy, yfinance"
   ]
  },
  {
   "cell_type": "code",
   "execution_count": 1,
   "id": "6040b4e9-c424-4277-8c85-f43257817b49",
   "metadata": {},
   "outputs": [],
   "source": [
    "!pip install pandas matplotlib numpy yfinance tensorflow --break-system-packages --quiet"
   ]
  },
  {
   "cell_type": "markdown",
   "id": "1017ea73-6a51-444b-8760-d222001ad2a0",
   "metadata": {},
   "source": [
    "## Importing packages"
   ]
  },
  {
   "cell_type": "code",
   "execution_count": 2,
   "id": "8bee60f0-4899-4527-9b4b-f3516593393a",
   "metadata": {},
   "outputs": [
    {
     "name": "stderr",
     "output_type": "stream",
     "text": [
      "2024-04-26 10:57:26.924229: I external/local_tsl/tsl/cuda/cudart_stub.cc:32] Could not find cuda drivers on your machine, GPU will not be used.\n",
      "2024-04-26 10:57:27.016150: I external/local_tsl/tsl/cuda/cudart_stub.cc:32] Could not find cuda drivers on your machine, GPU will not be used.\n",
      "2024-04-26 10:57:27.255995: I tensorflow/core/platform/cpu_feature_guard.cc:210] This TensorFlow binary is optimized to use available CPU instructions in performance-critical operations.\n",
      "To enable the following instructions: AVX2 FMA, in other operations, rebuild TensorFlow with the appropriate compiler flags.\n",
      "2024-04-26 10:57:28.694340: W tensorflow/compiler/tf2tensorrt/utils/py_utils.cc:38] TF-TRT Warning: Could not find TensorRT\n"
     ]
    }
   ],
   "source": [
    "import pandas as pd\n",
    "from matplotlib import pyplot as plt\n",
    "import numpy as np\n",
    "import tensorflow as tf"
   ]
  },
  {
   "cell_type": "markdown",
   "id": "13973369-3c3f-44fd-8386-5751b81a8c37",
   "metadata": {},
   "source": [
    "#### Loading CSV into memory.\n",
    "In this case, you have to download csv by yourself, in this case, it used Tick Data Suite download which had 3 columns representing time, bid and ask (respectively) for each row."
   ]
  },
  {
   "cell_type": "code",
   "execution_count": 3,
   "id": "7500f17e-7c15-47b6-bbb2-ed75aa8fa9b2",
   "metadata": {},
   "outputs": [
    {
     "data": {
      "text/html": [
       "<div>\n",
       "<style scoped>\n",
       "    .dataframe tbody tr th:only-of-type {\n",
       "        vertical-align: middle;\n",
       "    }\n",
       "\n",
       "    .dataframe tbody tr th {\n",
       "        vertical-align: top;\n",
       "    }\n",
       "\n",
       "    .dataframe thead th {\n",
       "        text-align: right;\n",
       "    }\n",
       "</style>\n",
       "<table border=\"1\" class=\"dataframe\">\n",
       "  <thead>\n",
       "    <tr style=\"text-align: right;\">\n",
       "      <th></th>\n",
       "      <th>time</th>\n",
       "      <th>bid</th>\n",
       "      <th>ask</th>\n",
       "    </tr>\n",
       "  </thead>\n",
       "  <tbody>\n",
       "    <tr>\n",
       "      <th>0</th>\n",
       "      <td>2013.04.15 01:00:01.957</td>\n",
       "      <td>1.30968</td>\n",
       "      <td>1.30971</td>\n",
       "    </tr>\n",
       "    <tr>\n",
       "      <th>1</th>\n",
       "      <td>2013.04.15 01:00:02.437</td>\n",
       "      <td>1.30970</td>\n",
       "      <td>1.30972</td>\n",
       "    </tr>\n",
       "    <tr>\n",
       "      <th>2</th>\n",
       "      <td>2013.04.15 01:00:03.517</td>\n",
       "      <td>1.30967</td>\n",
       "      <td>1.30972</td>\n",
       "    </tr>\n",
       "    <tr>\n",
       "      <th>3</th>\n",
       "      <td>2013.04.15 01:00:04.396</td>\n",
       "      <td>1.30968</td>\n",
       "      <td>1.30971</td>\n",
       "    </tr>\n",
       "    <tr>\n",
       "      <th>4</th>\n",
       "      <td>2013.04.15 01:00:04.518</td>\n",
       "      <td>1.30970</td>\n",
       "      <td>1.30973</td>\n",
       "    </tr>\n",
       "  </tbody>\n",
       "</table>\n",
       "</div>"
      ],
      "text/plain": [
       "                      time      bid      ask\n",
       "0  2013.04.15 01:00:01.957  1.30968  1.30971\n",
       "1  2013.04.15 01:00:02.437  1.30970  1.30972\n",
       "2  2013.04.15 01:00:03.517  1.30967  1.30972\n",
       "3  2013.04.15 01:00:04.396  1.30968  1.30971\n",
       "4  2013.04.15 01:00:04.518  1.30970  1.30973"
      ]
     },
     "execution_count": 3,
     "metadata": {},
     "output_type": "execute_result"
    }
   ],
   "source": [
    "csv_location = \"/run/media/nicolas/NICOLAS/EURUSD_GMT+0_US-DST2013-2018.csv\"\n",
    "dataset = pd.read_csv(\n",
    "    csv_location, # Path to CSV Tick historical data.\n",
    "    names = ['time', 'bid', 'ask'] # This is the format given by Tick Data Suite CSV files.\n",
    "    )\n",
    "\n",
    "dataset.head()"
   ]
  },
  {
   "cell_type": "markdown",
   "id": "84cc16e8-34aa-4dda-b46d-8eae996f1b30",
   "metadata": {},
   "source": [
    "#### Checking data types."
   ]
  },
  {
   "cell_type": "code",
   "execution_count": 4,
   "id": "d0d28e18-bc4a-4224-9395-f581915a99ee",
   "metadata": {},
   "outputs": [
    {
     "data": {
      "text/plain": [
       "time     object\n",
       "bid     float64\n",
       "ask     float64\n",
       "dtype: object"
      ]
     },
     "execution_count": 4,
     "metadata": {},
     "output_type": "execute_result"
    }
   ],
   "source": [
    "dataset.dtypes"
   ]
  },
  {
   "cell_type": "code",
   "execution_count": 5,
   "id": "e8dd983e-748d-4bfb-9258-39e0d745eb2f",
   "metadata": {},
   "outputs": [
    {
     "name": "stdout",
     "output_type": "stream",
     "text": [
      "TensorFlow **IS NOT** using the GPU\n"
     ]
    }
   ],
   "source": [
    "if tf.config.list_physical_devices('GPU'):\n",
    "  print(\"TensorFlow **IS** using the GPU\")\n",
    "else:\n",
    "  print(\"TensorFlow **IS NOT** using the GPU\")"
   ]
  }
 ],
 "metadata": {
  "kernelspec": {
   "display_name": "Python 3 (ipykernel)",
   "language": "python",
   "name": "python3"
  },
  "language_info": {
   "codemirror_mode": {
    "name": "ipython",
    "version": 3
   },
   "file_extension": ".py",
   "mimetype": "text/x-python",
   "name": "python",
   "nbconvert_exporter": "python",
   "pygments_lexer": "ipython3",
   "version": "3.11.8"
  }
 },
 "nbformat": 4,
 "nbformat_minor": 5
}
