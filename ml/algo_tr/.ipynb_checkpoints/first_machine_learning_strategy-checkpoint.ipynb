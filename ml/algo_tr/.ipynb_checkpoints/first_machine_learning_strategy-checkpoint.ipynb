{
 "cells": [
  {
   "cell_type": "markdown",
   "id": "f009e8da-b621-4d6b-9602-be2c603cb020",
   "metadata": {
    "scrolled": true
   },
   "source": [
    "# Packages:\n",
    "matplotlib, pandas, numpy, yfinance"
   ]
  },
  {
   "cell_type": "code",
   "execution_count": 9,
   "id": "6040b4e9-c424-4277-8c85-f43257817b49",
   "metadata": {},
   "outputs": [],
   "source": [
    "!pip install pandas matplotlib numpy yfinance tensorflow --quiet"
   ]
  },
  {
   "cell_type": "markdown",
   "id": "1017ea73-6a51-444b-8760-d222001ad2a0",
   "metadata": {},
   "source": [
    "## Importing packages"
   ]
  },
  {
   "cell_type": "code",
   "execution_count": 7,
   "id": "8bee60f0-4899-4527-9b4b-f3516593393a",
   "metadata": {},
   "outputs": [],
   "source": [
    "import pandas as pd\n",
    "from matplotlib import pyplot as plt\n",
    "import numpy as np\n",
    "import tensorflow as tf"
   ]
  },
  {
   "cell_type": "markdown",
   "id": "13973369-3c3f-44fd-8386-5751b81a8c37",
   "metadata": {},
   "source": [
    "#### Loading CSV into memory."
   ]
  },
  {
   "cell_type": "code",
   "execution_count": 3,
   "id": "7500f17e-7c15-47b6-bbb2-ed75aa8fa9b2",
   "metadata": {},
   "outputs": [
    {
     "data": {
      "text/html": [
       "<div>\n",
       "<style scoped>\n",
       "    .dataframe tbody tr th:only-of-type {\n",
       "        vertical-align: middle;\n",
       "    }\n",
       "\n",
       "    .dataframe tbody tr th {\n",
       "        vertical-align: top;\n",
       "    }\n",
       "\n",
       "    .dataframe thead th {\n",
       "        text-align: right;\n",
       "    }\n",
       "</style>\n",
       "<table border=\"1\" class=\"dataframe\">\n",
       "  <thead>\n",
       "    <tr style=\"text-align: right;\">\n",
       "      <th></th>\n",
       "      <th>time</th>\n",
       "      <th>bid</th>\n",
       "      <th>ask</th>\n",
       "    </tr>\n",
       "  </thead>\n",
       "  <tbody>\n",
       "    <tr>\n",
       "      <th>0</th>\n",
       "      <td>2018.04.15 22:00:12.838</td>\n",
       "      <td>1.23278</td>\n",
       "      <td>1.23360</td>\n",
       "    </tr>\n",
       "    <tr>\n",
       "      <th>1</th>\n",
       "      <td>2018.04.15 22:00:17.172</td>\n",
       "      <td>1.23297</td>\n",
       "      <td>1.23360</td>\n",
       "    </tr>\n",
       "    <tr>\n",
       "      <th>2</th>\n",
       "      <td>2018.04.15 22:00:19.074</td>\n",
       "      <td>1.23297</td>\n",
       "      <td>1.23361</td>\n",
       "    </tr>\n",
       "    <tr>\n",
       "      <th>3</th>\n",
       "      <td>2018.04.15 22:00:46.008</td>\n",
       "      <td>1.23297</td>\n",
       "      <td>1.23350</td>\n",
       "    </tr>\n",
       "    <tr>\n",
       "      <th>4</th>\n",
       "      <td>2018.04.15 22:01:02.081</td>\n",
       "      <td>1.23303</td>\n",
       "      <td>1.23350</td>\n",
       "    </tr>\n",
       "  </tbody>\n",
       "</table>\n",
       "</div>"
      ],
      "text/plain": [
       "                      time      bid      ask\n",
       "0  2018.04.15 22:00:12.838  1.23278  1.23360\n",
       "1  2018.04.15 22:00:17.172  1.23297  1.23360\n",
       "2  2018.04.15 22:00:19.074  1.23297  1.23361\n",
       "3  2018.04.15 22:00:46.008  1.23297  1.23350\n",
       "4  2018.04.15 22:01:02.081  1.23303  1.23350"
      ]
     },
     "execution_count": 3,
     "metadata": {},
     "output_type": "execute_result"
    }
   ],
   "source": [
    "dataset = pd.read_csv(\n",
    "    \"H:\\\\Windows\\\\documents\\\\trading\\\\machine_learning\\\\data\\\\EURUSD_GMT+0_US-DST2018-2024.csv\", # Path to CSV Tick historical data.\n",
    "    names = ['time', 'bid', 'ask']\n",
    "    )\n",
    "\n",
    "dataset.head()"
   ]
  },
  {
   "cell_type": "markdown",
   "id": "84cc16e8-34aa-4dda-b46d-8eae996f1b30",
   "metadata": {},
   "source": [
    "#### Checking data types."
   ]
  },
  {
   "cell_type": "code",
   "execution_count": 4,
   "id": "d0d28e18-bc4a-4224-9395-f581915a99ee",
   "metadata": {},
   "outputs": [
    {
     "data": {
      "text/plain": [
       "time     object\n",
       "bid     float64\n",
       "ask     float64\n",
       "dtype: object"
      ]
     },
     "execution_count": 4,
     "metadata": {},
     "output_type": "execute_result"
    }
   ],
   "source": [
    "dataset.dtypes"
   ]
  },
  {
   "cell_type": "code",
   "execution_count": 8,
   "id": "e8dd983e-748d-4bfb-9258-39e0d745eb2f",
   "metadata": {},
   "outputs": [
    {
     "name": "stdout",
     "output_type": "stream",
     "text": [
      "TensorFlow **IS NOT** using the GPU\n"
     ]
    }
   ],
   "source": [
    "if tf.config.list_physical_devices('GPU'):\n",
    "  print(\"TensorFlow **IS** using the GPU\")\n",
    "else:\n",
    "  print(\"TensorFlow **IS NOT** using the GPU\")"
   ]
  }
 ],
 "metadata": {
  "kernelspec": {
   "display_name": "Python 3 (ipykernel)",
   "language": "python",
   "name": "python3"
  },
  "language_info": {
   "codemirror_mode": {
    "name": "ipython",
    "version": 3
   },
   "file_extension": ".py",
   "mimetype": "text/x-python",
   "name": "python",
   "nbconvert_exporter": "python",
   "pygments_lexer": "ipython3",
   "version": "3.12.3"
  }
 },
 "nbformat": 4,
 "nbformat_minor": 5
}
